{
  "cells": [
    {
      "cell_type": "code",
      "metadata": {
        "tags": [],
        "cell_id": "00001-b34ae96b-e3a9-4e2f-b3e0-ad4fe22b6e62",
        "deepnote_to_be_reexecuted": false,
        "source_hash": "610f3d1b",
        "execution_millis": 72,
        "execution_start": 1617987229904,
        "deepnote_cell_type": "code"
      },
      "source": "# Load libraries\n\nimport pandas as pd\nimport slippi as slp\nimport os",
      "execution_count": 1,
      "outputs": []
    },
    {
      "cell_type": "code",
      "metadata": {
        "tags": [],
        "cell_id": "00001-abc21d33-662f-4353-b0c1-bec3492709fd",
        "deepnote_to_be_reexecuted": false,
        "source_hash": "a166e3e4",
        "execution_millis": 36,
        "execution_start": 1617987229981,
        "deepnote_cell_type": "code"
      },
      "source": "# Load data\n\ndata_dir = \"./data/\"\ngames = []\n\nfor path in os.listdir(data_dir):\n    full_path = os.path.join(data_dir, path)\n    if os.path.isfile(full_path):\n        games.append(full_path)\n\ngames[0:10]",
      "execution_count": 2,
      "outputs": [
        {
          "output_type": "execute_result",
          "execution_count": 2,
          "data": {
            "text/plain": "['./data/Game_20210117T162123.slp',\n './data/Game_20210117T191157.slp',\n './data/Game_20210117T161328.slp',\n './data/Game_20210117T203707.slp',\n './data/Game_20210117T194724.slp',\n './data/Game_20210117T192619.slp',\n './data/Game_20210117T164621.slp',\n './data/Game_20210117T200301.slp',\n './data/Game_20210117T201707.slp',\n './data/Game_20210117T184252.slp']"
          },
          "metadata": {}
        }
      ]
    },
    {
      "cell_type": "code",
      "metadata": {
        "tags": [],
        "cell_id": "00002-685f9d0e-2fab-43df-beef-5ad015b51d8e",
        "deepnote_to_be_reexecuted": false,
        "source_hash": "30c44859",
        "execution_millis": 15,
        "execution_start": 1617987230011,
        "deepnote_cell_type": "code"
      },
      "source": "# Code from Raffy Santayana's Medium post at https://medium.com/analytics-vidhya/parsing-slippi-files-into-pandas-dataframes-the-metadata-2efdfcb8562c\n\ndef metadata_to_df(slp_paths):\n    '''\n    Of a collection of games, store the metadata as a dataframe.\n    \n    slp_paths (list): each value is the file path to games\n    returns a dataframe\n    '''\n    # Used to determine how far along the function is while waiting\n    length = len(slp_paths)\n    count = 0\n    \n    # lists of values to populate dataframe.\n    dates, game_id, durations, plats, num_players, p1_chars, p2_chars, \\\n    p3_chars, p4_chars, stages, is_teams, is_pal = [], [], [], [], [], \\\n    [], [], [], [], [], [], []\n    \n    # For each filepath in the provided list of filepaths\n    for path in slp_paths:\n        count += 1\n        print(f'Parsing metadata from file {count} of {length}: {round(count / length * 100, 2)}%', end = '\\r')\n        \n        # try to instantiate the Game object, else skip it and try the next one\n        try:\n            game = slp.Game(path)\n        except:\n            print(f'Skip game {count} of {length}')\n            continue\n            \n        # set game ID\n        # to get file path using game_id:\n        # ../folder_directory/Game_[game_id].slp\n        ident_strip = slp_paths[count - 1].split('/')\n        game_id.append(ident_strip[-2] + ident_strip[-1].strip('Game_').strip('.slp'))\n        \n        # take the date, duration, and platform data\n        dates.append(game.metadata.date)\n        durations.append(game.metadata.duration)\n        plats.append(game.metadata.platform)# get active ports\n        ports = [game.start.players.index(port) if port != None else None for port in game.start.players]# get characters\n        characters = [game.start.players[port].character if port != None else port for port in ports]\n        p1_chars.append(characters[0])\n        p2_chars.append(characters[1])\n        p3_chars.append(characters[2])\n        p4_chars.append(characters[3])\n        \n        # get stages played on\n        stages.append(game.start.stage)\n        \n        # is the game not a 1v1\n        is_teams.append(game.start.is_teams)\n        \n        # is this not a v1.02 match\n        is_pal.append(game.start.is_pal)\n    \n    # return metadata DataFrame\n    return pd.DataFrame(data = {\n            'game_id': game_id,\n            'date': dates,\n            'duration': durations,\n            'platform': plats,\n            'p1_char': p1_chars,\n            'p2_char': p2_chars,\n            'p3_char': p3_chars,\n            'p4_char': p4_chars,\n            'stage': stages,\n            'is_teams': is_teams,\n            'is_pal': is_pal\n        })",
      "execution_count": 3,
      "outputs": []
    },
    {
      "cell_type": "code",
      "metadata": {
        "tags": [],
        "cell_id": "00003-7dd43f84-59ed-4641-b849-dee922626c07",
        "deepnote_to_be_reexecuted": false,
        "source_hash": "fc1b1fd6",
        "execution_millis": 92659,
        "execution_start": 1617987230031,
        "deepnote_cell_type": "code"
      },
      "source": "df = metadata_to_df(games)",
      "execution_count": 4,
      "outputs": [
        {
          "name": "stdout",
          "text": "",
          "output_type": "stream"
        },
        {
          "name": "stdout",
          "text": "",
          "output_type": "stream"
        },
        {
          "name": "stdout",
          "text": "",
          "output_type": "stream"
        },
        {
          "name": "stdout",
          "text": "",
          "output_type": "stream"
        },
        {
          "name": "stdout",
          "text": "",
          "output_type": "stream"
        },
        {
          "name": "stdout",
          "text": "",
          "output_type": "stream"
        },
        {
          "name": "stdout",
          "text": "",
          "output_type": "stream"
        },
        {
          "name": "stdout",
          "text": "",
          "output_type": "stream"
        },
        {
          "name": "stdout",
          "text": "",
          "output_type": "stream"
        },
        {
          "name": "stdout",
          "text": "",
          "output_type": "stream"
        },
        {
          "name": "stdout",
          "text": "",
          "output_type": "stream"
        },
        {
          "name": "stdout",
          "text": "",
          "output_type": "stream"
        },
        {
          "name": "stdout",
          "text": "",
          "output_type": "stream"
        },
        {
          "name": "stdout",
          "text": "",
          "output_type": "stream"
        },
        {
          "name": "stdout",
          "text": "",
          "output_type": "stream"
        },
        {
          "name": "stdout",
          "text": "",
          "output_type": "stream"
        },
        {
          "name": "stdout",
          "text": "",
          "output_type": "stream"
        },
        {
          "name": "stdout",
          "text": "",
          "output_type": "stream"
        },
        {
          "name": "stdout",
          "text": "",
          "output_type": "stream"
        },
        {
          "name": "stdout",
          "text": "",
          "output_type": "stream"
        },
        {
          "name": "stdout",
          "text": "",
          "output_type": "stream"
        },
        {
          "name": "stdout",
          "text": "",
          "output_type": "stream"
        },
        {
          "name": "stdout",
          "text": "",
          "output_type": "stream"
        }
      ]
    },
    {
      "cell_type": "code",
      "metadata": {
        "tags": [],
        "cell_id": "00005-4ed06c9e-ad0a-4781-93e5-18a11fdf6518",
        "deepnote_to_be_reexecuted": false,
        "source_hash": "8f431db4",
        "execution_millis": 32,
        "execution_start": 1617987322697,
        "deepnote_cell_type": "code"
      },
      "source": "# A dictionary to map CSSCharacter values to their respective character names\ncsscharacter = {\n    0: 'Captain Falcon',\n    1: 'Donkey Kong',\n    2: 'Fox',\n    3: 'Game and Watch',\n    4: 'Kirby',\n    5: 'Bowser',\n    6: 'Link',\n    7: 'Luigi',\n    8: 'Mario',\n    9: 'Marth',\n    10: 'Mewtwo',\n    11: 'Ness',\n    12: 'Peach',\n    13: 'Pikachu',\n    14: 'Ice Climbers',\n    15: 'Jigglypuff',\n    16: 'Samus',\n    17: 'Yoshi',\n    18: 'Zelda',\n    19: 'Sheik',\n    20: 'Falco',\n    21: 'Young Link',\n    22: 'Dr. Mario',\n    23: 'Roy',\n    24: 'Pichu',\n    25: 'Ganondorf'\n}# A dictionary to map stage values to their respective stage names\nstages = {\n    2: 'Fountain of Dreams',\n    3: 'Pokemon Stadium',\n    4: \"Princess Peach's Castle\",\n    5: 'Kongo Jungle',\n    6: 'Brinstar',\n    7: 'Corneria',\n    8: \"Yoshi's Story\",\n    9: 'Onett',\n    10: 'Mute City',\n    11: 'Rainbow Cruise',\n    12: 'Jungle Japes',\n    13: 'Great Bay',\n    14: 'Hyrule Temple',\n    15: 'Brinstar Depths',\n    16: \"Yoshi's Island\",\n    17: 'Green Greens',\n    18: 'Fourside',\n    19: 'Mushroom Kingdom I',\n    20: 'Mushroom Kingdom II',\n    22: 'Venom',\n    23: 'Poke Floats',\n    24: 'Big Blue',\n    25: 'Icicle Mountain',\n    26: 'Icetop',\n    27: 'Flat Zone',\n    28: 'Dream Land 64',\n    29: \"Yoshi's Island 64\",\n    30: 'Kongo Jungle 64',\n    31: 'Battlefield',\n    32: 'Final Destination'\n}# Mapping values to their respective series\ndf['p1_char_name'] = df['p1_char'].map(csscharacter)\ndf['p2_char_name'] = df['p2_char'].map(csscharacter)\ndf['p3_char_name'] = df['p3_char'].map(csscharacter)\ndf['p4_char_name'] = df['p4_char'].map(csscharacter)\ndf['stage_name'] = df['stage'].map(stages)",
      "execution_count": 5,
      "outputs": []
    },
    {
      "cell_type": "code",
      "metadata": {
        "tags": [],
        "cell_id": "00004-46a6bf11-60c4-45c3-93ac-341b6808decd",
        "deepnote_to_be_reexecuted": false,
        "source_hash": "f30f989a",
        "execution_millis": 101,
        "execution_start": 1617987322734,
        "deepnote_cell_type": "code"
      },
      "source": "df.head(10)",
      "execution_count": 6,
      "outputs": [
        {
          "output_type": "execute_result",
          "execution_count": 6,
          "data": {
            "application/vnd.deepnote.dataframe.v2+json": {
              "row_count": 10,
              "column_count": 16,
              "columns": [
                {
                  "name": "game_id",
                  "dtype": "object",
                  "stats": {
                    "unique_count": 10,
                    "nan_count": 0,
                    "categories": [
                      {
                        "name": "data20210117T162123",
                        "count": 1
                      },
                      {
                        "name": "data20210117T191157",
                        "count": 1
                      },
                      {
                        "name": "8 others",
                        "count": 8
                      }
                    ]
                  }
                },
                {
                  "name": "date",
                  "dtype": "datetime64[ns, UTC]",
                  "stats": {
                    "unique_count": 10,
                    "nan_count": 0,
                    "min": "2021-01-17T21:13:28.000000",
                    "max": "2021-01-18T01:37:07.000000",
                    "histogram": [
                      {
                        "bin_start": 1610918008000000000,
                        "bin_end": 1610919589900000000,
                        "count": 2
                      },
                      {
                        "bin_start": 1610919589900000000,
                        "bin_end": 1610921171800000000,
                        "count": 1
                      },
                      {
                        "bin_start": 1610921171800000000,
                        "bin_end": 1610922753700000000,
                        "count": 0
                      },
                      {
                        "bin_start": 1610922753700000000,
                        "bin_end": 1610924335600000000,
                        "count": 0
                      },
                      {
                        "bin_start": 1610924335600000000,
                        "bin_end": 1610925917500000000,
                        "count": 0
                      },
                      {
                        "bin_start": 1610925917500000000,
                        "bin_end": 1610927499400000000,
                        "count": 1
                      },
                      {
                        "bin_start": 1610927499400000000,
                        "bin_end": 1610929081300000000,
                        "count": 1
                      },
                      {
                        "bin_start": 1610929081300000000,
                        "bin_end": 1610930663200000000,
                        "count": 1
                      },
                      {
                        "bin_start": 1610930663200000000,
                        "bin_end": 1610932245100000000,
                        "count": 2
                      },
                      {
                        "bin_start": 1610932245100000000,
                        "bin_end": 1610933827000000000,
                        "count": 2
                      }
                    ]
                  }
                },
                {
                  "name": "duration",
                  "dtype": "int64",
                  "stats": {
                    "unique_count": 10,
                    "nan_count": 0,
                    "min": 5717,
                    "max": 30879,
                    "histogram": [
                      {
                        "bin_start": 5717,
                        "bin_end": 8233.2,
                        "count": 1
                      },
                      {
                        "bin_start": 8233.2,
                        "bin_end": 10749.4,
                        "count": 3
                      },
                      {
                        "bin_start": 10749.4,
                        "bin_end": 13265.599999999999,
                        "count": 3
                      },
                      {
                        "bin_start": 13265.599999999999,
                        "bin_end": 15781.8,
                        "count": 1
                      },
                      {
                        "bin_start": 15781.8,
                        "bin_end": 18298,
                        "count": 0
                      },
                      {
                        "bin_start": 18298,
                        "bin_end": 20814.199999999997,
                        "count": 1
                      },
                      {
                        "bin_start": 20814.199999999997,
                        "bin_end": 23330.399999999998,
                        "count": 0
                      },
                      {
                        "bin_start": 23330.399999999998,
                        "bin_end": 25846.6,
                        "count": 0
                      },
                      {
                        "bin_start": 25846.6,
                        "bin_end": 28362.8,
                        "count": 0
                      },
                      {
                        "bin_start": 28362.8,
                        "bin_end": 30879,
                        "count": 1
                      }
                    ]
                  }
                },
                {
                  "name": "platform",
                  "dtype": "object",
                  "stats": {
                    "unique_count": 1,
                    "nan_count": 0,
                    "categories": [
                      {
                        "name": "Platform.DOLPHIN",
                        "count": 10
                      }
                    ]
                  }
                },
                {
                  "name": "p1_char",
                  "dtype": "int64",
                  "stats": {
                    "unique_count": 2,
                    "nan_count": 0,
                    "min": 12,
                    "max": 20,
                    "histogram": [
                      {
                        "bin_start": 12,
                        "bin_end": 12.8,
                        "count": 8
                      },
                      {
                        "bin_start": 12.8,
                        "bin_end": 13.6,
                        "count": 0
                      },
                      {
                        "bin_start": 13.6,
                        "bin_end": 14.4,
                        "count": 0
                      },
                      {
                        "bin_start": 14.4,
                        "bin_end": 15.2,
                        "count": 0
                      },
                      {
                        "bin_start": 15.2,
                        "bin_end": 16,
                        "count": 0
                      },
                      {
                        "bin_start": 16,
                        "bin_end": 16.8,
                        "count": 0
                      },
                      {
                        "bin_start": 16.8,
                        "bin_end": 17.6,
                        "count": 0
                      },
                      {
                        "bin_start": 17.6,
                        "bin_end": 18.4,
                        "count": 0
                      },
                      {
                        "bin_start": 18.4,
                        "bin_end": 19.2,
                        "count": 0
                      },
                      {
                        "bin_start": 19.2,
                        "bin_end": 20,
                        "count": 2
                      }
                    ]
                  }
                },
                {
                  "name": "p2_char",
                  "dtype": "int64",
                  "stats": {
                    "unique_count": 4,
                    "nan_count": 0,
                    "min": 0,
                    "max": 13,
                    "histogram": [
                      {
                        "bin_start": 0,
                        "bin_end": 1.3,
                        "count": 1
                      },
                      {
                        "bin_start": 1.3,
                        "bin_end": 2.6,
                        "count": 4
                      },
                      {
                        "bin_start": 2.6,
                        "bin_end": 3.9000000000000004,
                        "count": 0
                      },
                      {
                        "bin_start": 3.9000000000000004,
                        "bin_end": 5.2,
                        "count": 0
                      },
                      {
                        "bin_start": 5.2,
                        "bin_end": 6.5,
                        "count": 0
                      },
                      {
                        "bin_start": 6.5,
                        "bin_end": 7.800000000000001,
                        "count": 0
                      },
                      {
                        "bin_start": 7.800000000000001,
                        "bin_end": 9.1,
                        "count": 0
                      },
                      {
                        "bin_start": 9.1,
                        "bin_end": 10.4,
                        "count": 0
                      },
                      {
                        "bin_start": 10.4,
                        "bin_end": 11.700000000000001,
                        "count": 0
                      },
                      {
                        "bin_start": 11.700000000000001,
                        "bin_end": 13,
                        "count": 5
                      }
                    ]
                  }
                },
                {
                  "name": "p3_char",
                  "dtype": "object",
                  "stats": {
                    "unique_count": 0,
                    "nan_count": 10,
                    "categories": [
                      {
                        "name": "Missing",
                        "count": 10
                      }
                    ]
                  }
                },
                {
                  "name": "p4_char",
                  "dtype": "object",
                  "stats": {
                    "unique_count": 0,
                    "nan_count": 10,
                    "categories": [
                      {
                        "name": "Missing",
                        "count": 10
                      }
                    ]
                  }
                },
                {
                  "name": "stage",
                  "dtype": "int64",
                  "stats": {
                    "unique_count": 4,
                    "nan_count": 0,
                    "min": 3,
                    "max": 32,
                    "histogram": [
                      {
                        "bin_start": 3,
                        "bin_end": 5.9,
                        "count": 2
                      },
                      {
                        "bin_start": 5.9,
                        "bin_end": 8.8,
                        "count": 0
                      },
                      {
                        "bin_start": 8.8,
                        "bin_end": 11.7,
                        "count": 0
                      },
                      {
                        "bin_start": 11.7,
                        "bin_end": 14.6,
                        "count": 0
                      },
                      {
                        "bin_start": 14.6,
                        "bin_end": 17.5,
                        "count": 0
                      },
                      {
                        "bin_start": 17.5,
                        "bin_end": 20.4,
                        "count": 0
                      },
                      {
                        "bin_start": 20.4,
                        "bin_end": 23.3,
                        "count": 0
                      },
                      {
                        "bin_start": 23.3,
                        "bin_end": 26.2,
                        "count": 0
                      },
                      {
                        "bin_start": 26.2,
                        "bin_end": 29.099999999999998,
                        "count": 1
                      },
                      {
                        "bin_start": 29.099999999999998,
                        "bin_end": 32,
                        "count": 7
                      }
                    ]
                  }
                },
                {
                  "name": "is_teams",
                  "dtype": "bool",
                  "stats": {
                    "unique_count": 1,
                    "nan_count": 0,
                    "categories": [
                      {
                        "name": "False",
                        "count": 10
                      }
                    ]
                  }
                },
                {
                  "name": "is_pal",
                  "dtype": "bool",
                  "stats": {
                    "unique_count": 1,
                    "nan_count": 0,
                    "categories": [
                      {
                        "name": "False",
                        "count": 10
                      }
                    ]
                  }
                },
                {
                  "name": "p1_char_name",
                  "dtype": "object",
                  "stats": {
                    "unique_count": 2,
                    "nan_count": 0,
                    "categories": [
                      {
                        "name": "Peach",
                        "count": 8
                      },
                      {
                        "name": "Falco",
                        "count": 2
                      }
                    ]
                  }
                },
                {
                  "name": "p2_char_name",
                  "dtype": "object",
                  "stats": {
                    "unique_count": 4,
                    "nan_count": 0,
                    "categories": [
                      {
                        "name": "Fox",
                        "count": 4
                      },
                      {
                        "name": "Peach",
                        "count": 3
                      },
                      {
                        "name": "2 others",
                        "count": 3
                      }
                    ]
                  }
                },
                {
                  "name": "p3_char_name",
                  "dtype": "object",
                  "stats": {
                    "unique_count": 0,
                    "nan_count": 10,
                    "categories": [
                      {
                        "name": "Missing",
                        "count": 10
                      }
                    ]
                  }
                },
                {
                  "name": "p4_char_name",
                  "dtype": "object",
                  "stats": {
                    "unique_count": 0,
                    "nan_count": 10,
                    "categories": [
                      {
                        "name": "Missing",
                        "count": 10
                      }
                    ]
                  }
                },
                {
                  "name": "stage_name",
                  "dtype": "object",
                  "stats": {
                    "unique_count": 4,
                    "nan_count": 0,
                    "categories": [
                      {
                        "name": "Battlefield",
                        "count": 4
                      },
                      {
                        "name": "Final Destination",
                        "count": 3
                      },
                      {
                        "name": "2 others",
                        "count": 3
                      }
                    ]
                  }
                },
                {
                  "name": "_deepnote_index_column",
                  "dtype": "int64"
                }
              ],
              "rows_top": [
                {
                  "game_id": "data20210117T162123",
                  "date": "2021-01-17T21:21:23.000000",
                  "duration": 13058,
                  "platform": "Platform.DOLPHIN",
                  "p1_char": 12,
                  "p2_char": 2,
                  "p3_char": "nan",
                  "p4_char": "nan",
                  "stage": 3,
                  "is_teams": false,
                  "is_pal": false,
                  "p1_char_name": "Peach",
                  "p2_char_name": "Fox",
                  "p3_char_name": "nan",
                  "p4_char_name": "nan",
                  "stage_name": "Pokemon Stadium",
                  "_deepnote_index_column": 0
                },
                {
                  "game_id": "data20210117T191157",
                  "date": "2021-01-18T00:11:57.000000",
                  "duration": 19260,
                  "platform": "Platform.DOLPHIN",
                  "p1_char": 12,
                  "p2_char": 12,
                  "p3_char": "nan",
                  "p4_char": "nan",
                  "stage": 28,
                  "is_teams": false,
                  "is_pal": false,
                  "p1_char_name": "Peach",
                  "p2_char_name": "Peach",
                  "p3_char_name": "nan",
                  "p4_char_name": "nan",
                  "stage_name": "Dream Land 64",
                  "_deepnote_index_column": 1
                },
                {
                  "game_id": "data20210117T161328",
                  "date": "2021-01-17T21:13:28.000000",
                  "duration": 11119,
                  "platform": "Platform.DOLPHIN",
                  "p1_char": 12,
                  "p2_char": 2,
                  "p3_char": "nan",
                  "p4_char": "nan",
                  "stage": 31,
                  "is_teams": false,
                  "is_pal": false,
                  "p1_char_name": "Peach",
                  "p2_char_name": "Fox",
                  "p3_char_name": "nan",
                  "p4_char_name": "nan",
                  "stage_name": "Battlefield",
                  "_deepnote_index_column": 2
                },
                {
                  "game_id": "data20210117T203707",
                  "date": "2021-01-18T01:37:07.000000",
                  "duration": 10376,
                  "platform": "Platform.DOLPHIN",
                  "p1_char": 20,
                  "p2_char": 12,
                  "p3_char": "nan",
                  "p4_char": "nan",
                  "stage": 31,
                  "is_teams": false,
                  "is_pal": false,
                  "p1_char_name": "Falco",
                  "p2_char_name": "Peach",
                  "p3_char_name": "nan",
                  "p4_char_name": "nan",
                  "stage_name": "Battlefield",
                  "_deepnote_index_column": 3
                },
                {
                  "game_id": "data20210117T194724",
                  "date": "2021-01-18T00:47:24.000000",
                  "duration": 30879,
                  "platform": "Platform.DOLPHIN",
                  "p1_char": 12,
                  "p2_char": 13,
                  "p3_char": "nan",
                  "p4_char": "nan",
                  "stage": 32,
                  "is_teams": false,
                  "is_pal": false,
                  "p1_char_name": "Peach",
                  "p2_char_name": "Pikachu",
                  "p3_char_name": "nan",
                  "p4_char_name": "nan",
                  "stage_name": "Final Destination",
                  "_deepnote_index_column": 4
                },
                {
                  "game_id": "data20210117T192619",
                  "date": "2021-01-18T00:26:19.000000",
                  "duration": 14331,
                  "platform": "Platform.DOLPHIN",
                  "p1_char": 12,
                  "p2_char": 2,
                  "p3_char": "nan",
                  "p4_char": "nan",
                  "stage": 32,
                  "is_teams": false,
                  "is_pal": false,
                  "p1_char_name": "Peach",
                  "p2_char_name": "Fox",
                  "p3_char_name": "nan",
                  "p4_char_name": "nan",
                  "stage_name": "Final Destination",
                  "_deepnote_index_column": 5
                },
                {
                  "game_id": "data20210117T164621",
                  "date": "2021-01-17T21:46:21.000000",
                  "duration": 9113,
                  "platform": "Platform.DOLPHIN",
                  "p1_char": 12,
                  "p2_char": 2,
                  "p3_char": "nan",
                  "p4_char": "nan",
                  "stage": 31,
                  "is_teams": false,
                  "is_pal": false,
                  "p1_char_name": "Peach",
                  "p2_char_name": "Fox",
                  "p3_char_name": "nan",
                  "p4_char_name": "nan",
                  "stage_name": "Battlefield",
                  "_deepnote_index_column": 6
                },
                {
                  "game_id": "data20210117T200301",
                  "date": "2021-01-18T01:03:01.000000",
                  "duration": 13076,
                  "platform": "Platform.DOLPHIN",
                  "p1_char": 12,
                  "p2_char": 13,
                  "p3_char": "nan",
                  "p4_char": "nan",
                  "stage": 32,
                  "is_teams": false,
                  "is_pal": false,
                  "p1_char_name": "Peach",
                  "p2_char_name": "Pikachu",
                  "p3_char_name": "nan",
                  "p4_char_name": "nan",
                  "stage_name": "Final Destination",
                  "_deepnote_index_column": 7
                },
                {
                  "game_id": "data20210117T201707",
                  "date": "2021-01-18T01:17:07.000000",
                  "duration": 5717,
                  "platform": "Platform.DOLPHIN",
                  "p1_char": 20,
                  "p2_char": 12,
                  "p3_char": "nan",
                  "p4_char": "nan",
                  "stage": 3,
                  "is_teams": false,
                  "is_pal": false,
                  "p1_char_name": "Falco",
                  "p2_char_name": "Peach",
                  "p3_char_name": "nan",
                  "p4_char_name": "nan",
                  "stage_name": "Pokemon Stadium",
                  "_deepnote_index_column": 8
                },
                {
                  "game_id": "data20210117T184252",
                  "date": "2021-01-17T23:42:52.000000",
                  "duration": 9866,
                  "platform": "Platform.DOLPHIN",
                  "p1_char": 12,
                  "p2_char": 0,
                  "p3_char": "nan",
                  "p4_char": "nan",
                  "stage": 31,
                  "is_teams": false,
                  "is_pal": false,
                  "p1_char_name": "Peach",
                  "p2_char_name": "Captain Falcon",
                  "p3_char_name": "nan",
                  "p4_char_name": "nan",
                  "stage_name": "Battlefield",
                  "_deepnote_index_column": 9
                }
              ],
              "rows_bottom": null
            },
            "text/plain": "               game_id                      date  duration          platform  \\\n0  data20210117T162123 2021-01-17 21:21:23+00:00     13058  Platform.DOLPHIN   \n1  data20210117T191157 2021-01-18 00:11:57+00:00     19260  Platform.DOLPHIN   \n2  data20210117T161328 2021-01-17 21:13:28+00:00     11119  Platform.DOLPHIN   \n3  data20210117T203707 2021-01-18 01:37:07+00:00     10376  Platform.DOLPHIN   \n4  data20210117T194724 2021-01-18 00:47:24+00:00     30879  Platform.DOLPHIN   \n5  data20210117T192619 2021-01-18 00:26:19+00:00     14331  Platform.DOLPHIN   \n6  data20210117T164621 2021-01-17 21:46:21+00:00      9113  Platform.DOLPHIN   \n7  data20210117T200301 2021-01-18 01:03:01+00:00     13076  Platform.DOLPHIN   \n8  data20210117T201707 2021-01-18 01:17:07+00:00      5717  Platform.DOLPHIN   \n9  data20210117T184252 2021-01-17 23:42:52+00:00      9866  Platform.DOLPHIN   \n\n   p1_char  p2_char p3_char p4_char  stage  is_teams  is_pal p1_char_name  \\\n0       12        2    None    None      3     False   False        Peach   \n1       12       12    None    None     28     False   False        Peach   \n2       12        2    None    None     31     False   False        Peach   \n3       20       12    None    None     31     False   False        Falco   \n4       12       13    None    None     32     False   False        Peach   \n5       12        2    None    None     32     False   False        Peach   \n6       12        2    None    None     31     False   False        Peach   \n7       12       13    None    None     32     False   False        Peach   \n8       20       12    None    None      3     False   False        Falco   \n9       12        0    None    None     31     False   False        Peach   \n\n     p2_char_name p3_char_name p4_char_name         stage_name  \n0             Fox          NaN          NaN    Pokemon Stadium  \n1           Peach          NaN          NaN      Dream Land 64  \n2             Fox          NaN          NaN        Battlefield  \n3           Peach          NaN          NaN        Battlefield  \n4         Pikachu          NaN          NaN  Final Destination  \n5             Fox          NaN          NaN  Final Destination  \n6             Fox          NaN          NaN        Battlefield  \n7         Pikachu          NaN          NaN  Final Destination  \n8           Peach          NaN          NaN    Pokemon Stadium  \n9  Captain Falcon          NaN          NaN        Battlefield  ",
            "text/html": "<div>\n<style scoped>\n    .dataframe tbody tr th:only-of-type {\n        vertical-align: middle;\n    }\n\n    .dataframe tbody tr th {\n        vertical-align: top;\n    }\n\n    .dataframe thead th {\n        text-align: right;\n    }\n</style>\n<table border=\"1\" class=\"dataframe\">\n  <thead>\n    <tr style=\"text-align: right;\">\n      <th></th>\n      <th>game_id</th>\n      <th>date</th>\n      <th>duration</th>\n      <th>platform</th>\n      <th>p1_char</th>\n      <th>p2_char</th>\n      <th>p3_char</th>\n      <th>p4_char</th>\n      <th>stage</th>\n      <th>is_teams</th>\n      <th>is_pal</th>\n      <th>p1_char_name</th>\n      <th>p2_char_name</th>\n      <th>p3_char_name</th>\n      <th>p4_char_name</th>\n      <th>stage_name</th>\n    </tr>\n  </thead>\n  <tbody>\n    <tr>\n      <th>0</th>\n      <td>data20210117T162123</td>\n      <td>2021-01-17 21:21:23+00:00</td>\n      <td>13058</td>\n      <td>Platform.DOLPHIN</td>\n      <td>12</td>\n      <td>2</td>\n      <td>None</td>\n      <td>None</td>\n      <td>3</td>\n      <td>False</td>\n      <td>False</td>\n      <td>Peach</td>\n      <td>Fox</td>\n      <td>NaN</td>\n      <td>NaN</td>\n      <td>Pokemon Stadium</td>\n    </tr>\n    <tr>\n      <th>1</th>\n      <td>data20210117T191157</td>\n      <td>2021-01-18 00:11:57+00:00</td>\n      <td>19260</td>\n      <td>Platform.DOLPHIN</td>\n      <td>12</td>\n      <td>12</td>\n      <td>None</td>\n      <td>None</td>\n      <td>28</td>\n      <td>False</td>\n      <td>False</td>\n      <td>Peach</td>\n      <td>Peach</td>\n      <td>NaN</td>\n      <td>NaN</td>\n      <td>Dream Land 64</td>\n    </tr>\n    <tr>\n      <th>2</th>\n      <td>data20210117T161328</td>\n      <td>2021-01-17 21:13:28+00:00</td>\n      <td>11119</td>\n      <td>Platform.DOLPHIN</td>\n      <td>12</td>\n      <td>2</td>\n      <td>None</td>\n      <td>None</td>\n      <td>31</td>\n      <td>False</td>\n      <td>False</td>\n      <td>Peach</td>\n      <td>Fox</td>\n      <td>NaN</td>\n      <td>NaN</td>\n      <td>Battlefield</td>\n    </tr>\n    <tr>\n      <th>3</th>\n      <td>data20210117T203707</td>\n      <td>2021-01-18 01:37:07+00:00</td>\n      <td>10376</td>\n      <td>Platform.DOLPHIN</td>\n      <td>20</td>\n      <td>12</td>\n      <td>None</td>\n      <td>None</td>\n      <td>31</td>\n      <td>False</td>\n      <td>False</td>\n      <td>Falco</td>\n      <td>Peach</td>\n      <td>NaN</td>\n      <td>NaN</td>\n      <td>Battlefield</td>\n    </tr>\n    <tr>\n      <th>4</th>\n      <td>data20210117T194724</td>\n      <td>2021-01-18 00:47:24+00:00</td>\n      <td>30879</td>\n      <td>Platform.DOLPHIN</td>\n      <td>12</td>\n      <td>13</td>\n      <td>None</td>\n      <td>None</td>\n      <td>32</td>\n      <td>False</td>\n      <td>False</td>\n      <td>Peach</td>\n      <td>Pikachu</td>\n      <td>NaN</td>\n      <td>NaN</td>\n      <td>Final Destination</td>\n    </tr>\n    <tr>\n      <th>5</th>\n      <td>data20210117T192619</td>\n      <td>2021-01-18 00:26:19+00:00</td>\n      <td>14331</td>\n      <td>Platform.DOLPHIN</td>\n      <td>12</td>\n      <td>2</td>\n      <td>None</td>\n      <td>None</td>\n      <td>32</td>\n      <td>False</td>\n      <td>False</td>\n      <td>Peach</td>\n      <td>Fox</td>\n      <td>NaN</td>\n      <td>NaN</td>\n      <td>Final Destination</td>\n    </tr>\n    <tr>\n      <th>6</th>\n      <td>data20210117T164621</td>\n      <td>2021-01-17 21:46:21+00:00</td>\n      <td>9113</td>\n      <td>Platform.DOLPHIN</td>\n      <td>12</td>\n      <td>2</td>\n      <td>None</td>\n      <td>None</td>\n      <td>31</td>\n      <td>False</td>\n      <td>False</td>\n      <td>Peach</td>\n      <td>Fox</td>\n      <td>NaN</td>\n      <td>NaN</td>\n      <td>Battlefield</td>\n    </tr>\n    <tr>\n      <th>7</th>\n      <td>data20210117T200301</td>\n      <td>2021-01-18 01:03:01+00:00</td>\n      <td>13076</td>\n      <td>Platform.DOLPHIN</td>\n      <td>12</td>\n      <td>13</td>\n      <td>None</td>\n      <td>None</td>\n      <td>32</td>\n      <td>False</td>\n      <td>False</td>\n      <td>Peach</td>\n      <td>Pikachu</td>\n      <td>NaN</td>\n      <td>NaN</td>\n      <td>Final Destination</td>\n    </tr>\n    <tr>\n      <th>8</th>\n      <td>data20210117T201707</td>\n      <td>2021-01-18 01:17:07+00:00</td>\n      <td>5717</td>\n      <td>Platform.DOLPHIN</td>\n      <td>20</td>\n      <td>12</td>\n      <td>None</td>\n      <td>None</td>\n      <td>3</td>\n      <td>False</td>\n      <td>False</td>\n      <td>Falco</td>\n      <td>Peach</td>\n      <td>NaN</td>\n      <td>NaN</td>\n      <td>Pokemon Stadium</td>\n    </tr>\n    <tr>\n      <th>9</th>\n      <td>data20210117T184252</td>\n      <td>2021-01-17 23:42:52+00:00</td>\n      <td>9866</td>\n      <td>Platform.DOLPHIN</td>\n      <td>12</td>\n      <td>0</td>\n      <td>None</td>\n      <td>None</td>\n      <td>31</td>\n      <td>False</td>\n      <td>False</td>\n      <td>Peach</td>\n      <td>Captain Falcon</td>\n      <td>NaN</td>\n      <td>NaN</td>\n      <td>Battlefield</td>\n    </tr>\n  </tbody>\n</table>\n</div>"
          },
          "metadata": {}
        }
      ]
    },
    {
      "cell_type": "markdown",
      "source": "<a style='text-decoration:none;line-height:16px;display:flex;color:#5B5B62;padding:10px;justify-content:end;' href='https://deepnote.com?utm_source=created-in-deepnote-cell&projectId=61a9c9e2-89b3-4f40-a8ec-07d133b06da4' target=\"_blank\">\n<img alt='Created in deepnote.com' style='display:inline;max-height:16px;margin:0px;margin-right:7.5px;' src='data:image/svg+xml;base64,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' > </img>\nCreated in <span style='font-weight:600;margin-left:4px;'>Deepnote</span></a>",
      "metadata": {
        "tags": [],
        "created_in_deepnote_cell": true,
        "deepnote_cell_type": "markdown"
      }
    }
  ],
  "nbformat": 4,
  "nbformat_minor": 2,
  "metadata": {
    "orig_nbformat": 2,
    "deepnote_notebook_id": "001b0748-a741-44f5-814d-ae245ad95e88",
    "deepnote_execution_queue": [],
    "deepnote": {}
  }
}